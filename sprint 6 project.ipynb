{
 "cells": [
  {
   "cell_type": "markdown",
   "metadata": {},
   "source": [
    "# Zuber\n",
    "Zuber is a new ride- sharing company that launched in Chicago. We are finding patterns in the datasets below to better understand passenger preferences and the impact of external factors on rides. We will analyze data from competitors and test a hypothesis about the impact of weather on ride frequency. Hop in and let's go!"
   ]
  },
  {
   "cell_type": "markdown",
   "metadata": {},
   "source": [
    "## Data Description\n",
    "- company_name: taxi company name\n",
    "\n",
    "- trips_amount: the number of rides for each taxi company on November 15-16, 2017\n",
    "\n",
    "- dropoff_location_name: Chicago neighborhoods where rides ended\n",
    "\n",
    "- average_trips: the average number of rides that ended in each neighborhood in November 2017\n",
    "\n",
    "- start_ts: pickup date and time\n",
    "\n",
    "- weather_conditions: weather conditions at the moment the ride started\n",
    "\n",
    "- duration_seconds: ride duration in seconds"
   ]
  },
  {
   "cell_type": "code",
   "execution_count": 1,
   "metadata": {},
   "outputs": [],
   "source": [
    "import pandas as pd\n",
    "import matplotlib.pyplot as plt\n",
    "from scipy import stats as st"
   ]
  },
  {
   "cell_type": "code",
   "execution_count": 2,
   "metadata": {},
   "outputs": [],
   "source": [
    "company_info = pd.read_csv('/datasets/project_sql_result_01.csv')\n",
    "dropoff_info = pd.read_csv('/datasets/project_sql_result_04.csv')\n",
    "pickup_info = pd.read_csv('/datasets/project_sql_result_07.csv')"
   ]
  },
  {
   "cell_type": "markdown",
   "metadata": {},
   "source": [
    "## Understanding company info and dropoff info datasets"
   ]
  },
  {
   "cell_type": "code",
   "execution_count": 3,
   "metadata": {},
   "outputs": [
    {
     "name": "stdout",
     "output_type": "stream",
     "text": [
      "<class 'pandas.core.frame.DataFrame'>\n",
      "RangeIndex: 64 entries, 0 to 63\n",
      "Data columns (total 2 columns):\n",
      " #   Column        Non-Null Count  Dtype \n",
      "---  ------        --------------  ----- \n",
      " 0   company_name  64 non-null     object\n",
      " 1   trips_amount  64 non-null     int64 \n",
      "dtypes: int64(1), object(1)\n",
      "memory usage: 1.1+ KB\n"
     ]
    }
   ],
   "source": [
    " company_info.info()"
   ]
  },
  {
   "cell_type": "code",
   "execution_count": 4,
   "metadata": {},
   "outputs": [
    {
     "data": {
      "text/html": [
       "<div>\n",
       "<style scoped>\n",
       "    .dataframe tbody tr th:only-of-type {\n",
       "        vertical-align: middle;\n",
       "    }\n",
       "\n",
       "    .dataframe tbody tr th {\n",
       "        vertical-align: top;\n",
       "    }\n",
       "\n",
       "    .dataframe thead th {\n",
       "        text-align: right;\n",
       "    }\n",
       "</style>\n",
       "<table border=\"1\" class=\"dataframe\">\n",
       "  <thead>\n",
       "    <tr style=\"text-align: right;\">\n",
       "      <th></th>\n",
       "      <th>company_name</th>\n",
       "      <th>trips_amount</th>\n",
       "    </tr>\n",
       "  </thead>\n",
       "  <tbody>\n",
       "    <tr>\n",
       "      <th>0</th>\n",
       "      <td>Flash Cab</td>\n",
       "      <td>19558</td>\n",
       "    </tr>\n",
       "    <tr>\n",
       "      <th>1</th>\n",
       "      <td>Taxi Affiliation Services</td>\n",
       "      <td>11422</td>\n",
       "    </tr>\n",
       "    <tr>\n",
       "      <th>2</th>\n",
       "      <td>Medallion Leasing</td>\n",
       "      <td>10367</td>\n",
       "    </tr>\n",
       "    <tr>\n",
       "      <th>3</th>\n",
       "      <td>Yellow Cab</td>\n",
       "      <td>9888</td>\n",
       "    </tr>\n",
       "    <tr>\n",
       "      <th>4</th>\n",
       "      <td>Taxi Affiliation Service Yellow</td>\n",
       "      <td>9299</td>\n",
       "    </tr>\n",
       "  </tbody>\n",
       "</table>\n",
       "</div>"
      ],
      "text/plain": [
       "                      company_name  trips_amount\n",
       "0                        Flash Cab         19558\n",
       "1        Taxi Affiliation Services         11422\n",
       "2                Medallion Leasing         10367\n",
       "3                       Yellow Cab          9888\n",
       "4  Taxi Affiliation Service Yellow          9299"
      ]
     },
     "execution_count": 4,
     "metadata": {},
     "output_type": "execute_result"
    }
   ],
   "source": [
    "company_info.head()"
   ]
  },
  {
   "cell_type": "code",
   "execution_count": 5,
   "metadata": {},
   "outputs": [
    {
     "data": {
      "text/html": [
       "<div>\n",
       "<style scoped>\n",
       "    .dataframe tbody tr th:only-of-type {\n",
       "        vertical-align: middle;\n",
       "    }\n",
       "\n",
       "    .dataframe tbody tr th {\n",
       "        vertical-align: top;\n",
       "    }\n",
       "\n",
       "    .dataframe thead th {\n",
       "        text-align: right;\n",
       "    }\n",
       "</style>\n",
       "<table border=\"1\" class=\"dataframe\">\n",
       "  <thead>\n",
       "    <tr style=\"text-align: right;\">\n",
       "      <th></th>\n",
       "      <th>company_name</th>\n",
       "      <th>trips_amount</th>\n",
       "    </tr>\n",
       "  </thead>\n",
       "  <tbody>\n",
       "    <tr>\n",
       "      <th>59</th>\n",
       "      <td>4053 - 40193 Adwar H. Nikola</td>\n",
       "      <td>7</td>\n",
       "    </tr>\n",
       "    <tr>\n",
       "      <th>60</th>\n",
       "      <td>2733 - 74600 Benny Jona</td>\n",
       "      <td>7</td>\n",
       "    </tr>\n",
       "    <tr>\n",
       "      <th>61</th>\n",
       "      <td>5874 - 73628 Sergey Cab Corp.</td>\n",
       "      <td>5</td>\n",
       "    </tr>\n",
       "    <tr>\n",
       "      <th>62</th>\n",
       "      <td>2241 - 44667 - Felman Corp</td>\n",
       "      <td>3</td>\n",
       "    </tr>\n",
       "    <tr>\n",
       "      <th>63</th>\n",
       "      <td>3556 - 36214 RC Andrews Cab</td>\n",
       "      <td>2</td>\n",
       "    </tr>\n",
       "  </tbody>\n",
       "</table>\n",
       "</div>"
      ],
      "text/plain": [
       "                     company_name  trips_amount\n",
       "59   4053 - 40193 Adwar H. Nikola             7\n",
       "60        2733 - 74600 Benny Jona             7\n",
       "61  5874 - 73628 Sergey Cab Corp.             5\n",
       "62     2241 - 44667 - Felman Corp             3\n",
       "63    3556 - 36214 RC Andrews Cab             2"
      ]
     },
     "execution_count": 5,
     "metadata": {},
     "output_type": "execute_result"
    }
   ],
   "source": [
    "company_info.tail()"
   ]
  },
  {
   "cell_type": "code",
   "execution_count": 6,
   "metadata": {},
   "outputs": [
    {
     "data": {
      "text/plain": [
       "company_name    0\n",
       "trips_amount    0\n",
       "dtype: int64"
      ]
     },
     "execution_count": 6,
     "metadata": {},
     "output_type": "execute_result"
    }
   ],
   "source": [
    "company_info.isna().sum()"
   ]
  },
  {
   "cell_type": "code",
   "execution_count": 7,
   "metadata": {},
   "outputs": [
    {
     "data": {
      "text/plain": [
       "0"
      ]
     },
     "execution_count": 7,
     "metadata": {},
     "output_type": "execute_result"
    }
   ],
   "source": [
    "company_info.duplicated().sum()"
   ]
  },
  {
   "cell_type": "code",
   "execution_count": 8,
   "metadata": {},
   "outputs": [
    {
     "name": "stdout",
     "output_type": "stream",
     "text": [
      "<class 'pandas.core.frame.DataFrame'>\n",
      "RangeIndex: 94 entries, 0 to 93\n",
      "Data columns (total 2 columns):\n",
      " #   Column                 Non-Null Count  Dtype  \n",
      "---  ------                 --------------  -----  \n",
      " 0   dropoff_location_name  94 non-null     object \n",
      " 1   average_trips          94 non-null     float64\n",
      "dtypes: float64(1), object(1)\n",
      "memory usage: 1.6+ KB\n"
     ]
    }
   ],
   "source": [
    "dropoff_info.info()"
   ]
  },
  {
   "cell_type": "code",
   "execution_count": 9,
   "metadata": {},
   "outputs": [
    {
     "data": {
      "text/html": [
       "<div>\n",
       "<style scoped>\n",
       "    .dataframe tbody tr th:only-of-type {\n",
       "        vertical-align: middle;\n",
       "    }\n",
       "\n",
       "    .dataframe tbody tr th {\n",
       "        vertical-align: top;\n",
       "    }\n",
       "\n",
       "    .dataframe thead th {\n",
       "        text-align: right;\n",
       "    }\n",
       "</style>\n",
       "<table border=\"1\" class=\"dataframe\">\n",
       "  <thead>\n",
       "    <tr style=\"text-align: right;\">\n",
       "      <th></th>\n",
       "      <th>dropoff_location_name</th>\n",
       "      <th>average_trips</th>\n",
       "    </tr>\n",
       "  </thead>\n",
       "  <tbody>\n",
       "    <tr>\n",
       "      <th>0</th>\n",
       "      <td>Loop</td>\n",
       "      <td>10727.466667</td>\n",
       "    </tr>\n",
       "    <tr>\n",
       "      <th>1</th>\n",
       "      <td>River North</td>\n",
       "      <td>9523.666667</td>\n",
       "    </tr>\n",
       "    <tr>\n",
       "      <th>2</th>\n",
       "      <td>Streeterville</td>\n",
       "      <td>6664.666667</td>\n",
       "    </tr>\n",
       "    <tr>\n",
       "      <th>3</th>\n",
       "      <td>West Loop</td>\n",
       "      <td>5163.666667</td>\n",
       "    </tr>\n",
       "    <tr>\n",
       "      <th>4</th>\n",
       "      <td>O'Hare</td>\n",
       "      <td>2546.900000</td>\n",
       "    </tr>\n",
       "  </tbody>\n",
       "</table>\n",
       "</div>"
      ],
      "text/plain": [
       "  dropoff_location_name  average_trips\n",
       "0                  Loop   10727.466667\n",
       "1           River North    9523.666667\n",
       "2         Streeterville    6664.666667\n",
       "3             West Loop    5163.666667\n",
       "4                O'Hare    2546.900000"
      ]
     },
     "execution_count": 9,
     "metadata": {},
     "output_type": "execute_result"
    }
   ],
   "source": [
    "dropoff_info.head()"
   ]
  },
  {
   "cell_type": "code",
   "execution_count": 10,
   "metadata": {},
   "outputs": [
    {
     "data": {
      "text/html": [
       "<div>\n",
       "<style scoped>\n",
       "    .dataframe tbody tr th:only-of-type {\n",
       "        vertical-align: middle;\n",
       "    }\n",
       "\n",
       "    .dataframe tbody tr th {\n",
       "        vertical-align: top;\n",
       "    }\n",
       "\n",
       "    .dataframe thead th {\n",
       "        text-align: right;\n",
       "    }\n",
       "</style>\n",
       "<table border=\"1\" class=\"dataframe\">\n",
       "  <thead>\n",
       "    <tr style=\"text-align: right;\">\n",
       "      <th></th>\n",
       "      <th>dropoff_location_name</th>\n",
       "      <th>average_trips</th>\n",
       "    </tr>\n",
       "  </thead>\n",
       "  <tbody>\n",
       "    <tr>\n",
       "      <th>89</th>\n",
       "      <td>Mount Greenwood</td>\n",
       "      <td>3.137931</td>\n",
       "    </tr>\n",
       "    <tr>\n",
       "      <th>90</th>\n",
       "      <td>Hegewisch</td>\n",
       "      <td>3.117647</td>\n",
       "    </tr>\n",
       "    <tr>\n",
       "      <th>91</th>\n",
       "      <td>Burnside</td>\n",
       "      <td>2.333333</td>\n",
       "    </tr>\n",
       "    <tr>\n",
       "      <th>92</th>\n",
       "      <td>East Side</td>\n",
       "      <td>1.961538</td>\n",
       "    </tr>\n",
       "    <tr>\n",
       "      <th>93</th>\n",
       "      <td>Riverdale</td>\n",
       "      <td>1.800000</td>\n",
       "    </tr>\n",
       "  </tbody>\n",
       "</table>\n",
       "</div>"
      ],
      "text/plain": [
       "   dropoff_location_name  average_trips\n",
       "89       Mount Greenwood       3.137931\n",
       "90             Hegewisch       3.117647\n",
       "91              Burnside       2.333333\n",
       "92             East Side       1.961538\n",
       "93             Riverdale       1.800000"
      ]
     },
     "execution_count": 10,
     "metadata": {},
     "output_type": "execute_result"
    }
   ],
   "source": [
    "dropoff_info.tail()"
   ]
  },
  {
   "cell_type": "code",
   "execution_count": 11,
   "metadata": {},
   "outputs": [
    {
     "data": {
      "text/plain": [
       "dropoff_location_name    0\n",
       "average_trips            0\n",
       "dtype: int64"
      ]
     },
     "execution_count": 11,
     "metadata": {},
     "output_type": "execute_result"
    }
   ],
   "source": [
    "dropoff_info.isna().sum()"
   ]
  },
  {
   "cell_type": "code",
   "execution_count": 12,
   "metadata": {},
   "outputs": [
    {
     "data": {
      "text/plain": [
       "0"
      ]
     },
     "execution_count": 12,
     "metadata": {},
     "output_type": "execute_result"
    }
   ],
   "source": [
    "dropoff_info.duplicated().sum()"
   ]
  },
  {
   "cell_type": "markdown",
   "metadata": {},
   "source": [
    "## Summary on company info and dropoff info\n",
    "- There are 64 entries in the company_info dataframe. The first 5 and the last 5 rows have been displayed.\n",
    "- There are 0 missing values and 0 duplicated values in the company_info file.\n",
    "- There are 94 entries in the dropoff_info dataframe. The first 5 and the last 5 rows have been displayed.\n",
    "- There are 0 missing values and 0 duplicated values in the dropoff_info file."
   ]
  },
  {
   "cell_type": "markdown",
   "metadata": {},
   "source": [
    "## Studying the data"
   ]
  },
  {
   "cell_type": "code",
   "execution_count": 13,
   "metadata": {},
   "outputs": [
    {
     "data": {
      "text/plain": [
       "dropoff_location_name    object\n",
       "average_trips             int64\n",
       "dtype: object"
      ]
     },
     "metadata": {},
     "output_type": "display_data"
    }
   ],
   "source": [
    "# change the datatype for 'average_trips' from float64 to int64\n",
    "dropoff_info['average_trips'] = dropoff_info['average_trips'].astype('int64')\n",
    "display(dropoff_info.dtypes)"
   ]
  },
  {
   "cell_type": "markdown",
   "metadata": {},
   "source": [
    "The average trips column was changed from a float to integer to better suit the ongoing analysis."
   ]
  },
  {
   "cell_type": "code",
   "execution_count": 14,
   "metadata": {},
   "outputs": [
    {
     "data": {
      "text/html": [
       "<div>\n",
       "<style scoped>\n",
       "    .dataframe tbody tr th:only-of-type {\n",
       "        vertical-align: middle;\n",
       "    }\n",
       "\n",
       "    .dataframe tbody tr th {\n",
       "        vertical-align: top;\n",
       "    }\n",
       "\n",
       "    .dataframe thead th {\n",
       "        text-align: right;\n",
       "    }\n",
       "</style>\n",
       "<table border=\"1\" class=\"dataframe\">\n",
       "  <thead>\n",
       "    <tr style=\"text-align: right;\">\n",
       "      <th></th>\n",
       "      <th>dropoff_location_name</th>\n",
       "      <th>average_trips</th>\n",
       "    </tr>\n",
       "  </thead>\n",
       "  <tbody>\n",
       "    <tr>\n",
       "      <th>0</th>\n",
       "      <td>Loop</td>\n",
       "      <td>10727</td>\n",
       "    </tr>\n",
       "    <tr>\n",
       "      <th>1</th>\n",
       "      <td>River North</td>\n",
       "      <td>9523</td>\n",
       "    </tr>\n",
       "    <tr>\n",
       "      <th>2</th>\n",
       "      <td>Streeterville</td>\n",
       "      <td>6664</td>\n",
       "    </tr>\n",
       "    <tr>\n",
       "      <th>3</th>\n",
       "      <td>West Loop</td>\n",
       "      <td>5163</td>\n",
       "    </tr>\n",
       "    <tr>\n",
       "      <th>4</th>\n",
       "      <td>O'Hare</td>\n",
       "      <td>2546</td>\n",
       "    </tr>\n",
       "    <tr>\n",
       "      <th>5</th>\n",
       "      <td>Lake View</td>\n",
       "      <td>2420</td>\n",
       "    </tr>\n",
       "    <tr>\n",
       "      <th>6</th>\n",
       "      <td>Grant Park</td>\n",
       "      <td>2068</td>\n",
       "    </tr>\n",
       "    <tr>\n",
       "      <th>7</th>\n",
       "      <td>Museum Campus</td>\n",
       "      <td>1510</td>\n",
       "    </tr>\n",
       "    <tr>\n",
       "      <th>8</th>\n",
       "      <td>Gold Coast</td>\n",
       "      <td>1364</td>\n",
       "    </tr>\n",
       "    <tr>\n",
       "      <th>9</th>\n",
       "      <td>Sheffield &amp; DePaul</td>\n",
       "      <td>1259</td>\n",
       "    </tr>\n",
       "  </tbody>\n",
       "</table>\n",
       "</div>"
      ],
      "text/plain": [
       "  dropoff_location_name  average_trips\n",
       "0                  Loop          10727\n",
       "1           River North           9523\n",
       "2         Streeterville           6664\n",
       "3             West Loop           5163\n",
       "4                O'Hare           2546\n",
       "5             Lake View           2420\n",
       "6            Grant Park           2068\n",
       "7         Museum Campus           1510\n",
       "8            Gold Coast           1364\n",
       "9    Sheffield & DePaul           1259"
      ]
     },
     "metadata": {},
     "output_type": "display_data"
    }
   ],
   "source": [
    "# top 10 neighborhoods in terms of dropoffs\n",
    "sorted_dropoff_info = dropoff_info.sort_values(by='average_trips', ascending=False)\n",
    "top_10_neighborhoods = sorted_dropoff_info.head(10)\n",
    "display(top_10_neighborhoods)"
   ]
  },
  {
   "cell_type": "code",
   "execution_count": 15,
   "metadata": {},
   "outputs": [
    {
     "data": {
      "image/png": "[encoded data removed]",
      "text/plain": [
       "<Figure size 1000x600 with 1 Axes>"
      ]
     },
     "metadata": {},
     "output_type": "display_data"
    }
   ],
   "source": [
    "# sort the df by 'average_trips' in descending order\n",
    "sorted_dropoff_info = dropoff_info.sort_values(by='average_trips', ascending=False)\n",
    "\n",
    "# plot\n",
    "plt.figure(figsize=(10, 6))\n",
    "plt.bar(sorted_dropoff_info['dropoff_location_name'][:10], sorted_dropoff_info['average_trips'][:10], color='c')\n",
    "plt.xlabel('Neighborhoods')\n",
    "plt.ylabel('Average Number of Drop-offs')\n",
    "plt.title('Top 10 Neighborhoods by Number of Drop-offs')\n",
    "plt.xticks(rotation=45, ha='right')\n",
    "plt.tight_layout()\n",
    "plt.show()"
   ]
  },
  {
   "cell_type": "code",
   "execution_count": 16,
   "metadata": {},
   "outputs": [
    {
     "data": {
      "image/png": "[encoded data removed]",
      "text/plain": [
       "<Figure size 1000x600 with 1 Axes>"
      ]
     },
     "metadata": {},
     "output_type": "display_data"
    }
   ],
   "source": [
    "# sort the df by 'trips_amount' in descending order\n",
    "sorted_company_info = company_info.sort_values(by='trips_amount', ascending=False)\n",
    "\n",
    "# plot\n",
    "plt.figure(figsize=(10, 6))\n",
    "plt.bar(sorted_company_info['company_name'][:10], sorted_company_info['trips_amount'][:10], color='lightpink')\n",
    "plt.xlabel('Taxi Companies')\n",
    "plt.ylabel('Number of Rides')\n",
    "plt.title('Top 10 Taxi Companies by Number of Rides')\n",
    "plt.xticks(rotation=45, ha='right')\n",
    "plt.tight_layout()\n",
    "plt.show()"
   ]
  },
  {
   "cell_type": "markdown",
   "metadata": {},
   "source": [
    "## Summary on the above graphs\n",
    "- The top 10 neighborhoods in terms of dropoffs are displayed.\n",
    "- The number one dropoff is the Loop, averaging almost 11,000 trips.\n",
    "- With close to 20,000 rides, Flash Cab almost doubles the other 9 companies according to the second graph."
   ]
  },
  {
   "cell_type": "markdown",
   "metadata": {},
   "source": [
    "## Testing the hypothesis"
   ]
  },
  {
   "cell_type": "code",
   "execution_count": 17,
   "metadata": {},
   "outputs": [
    {
     "name": "stdout",
     "output_type": "stream",
     "text": [
      "T-statistic: 7.186034288068629\n",
      "P-value: 6.738994326108734e-12\n",
      "Reject null hypothesis: There is a statistically significant difference in average ride duration.\n"
     ]
    }
   ],
   "source": [
    "# extract durations for rainy and non-rainy Saturdays\n",
    "rainy_durations = pickup_info[pickup_info['weather_conditions'] == 'Bad']['duration_seconds']\n",
    "non_rainy_durations = pickup_info[pickup_info['weather_conditions'] == 'Good']['duration_seconds']\n",
    "\n",
    "# perform t-test\n",
    "t_statistic, p_value = st.ttest_ind(rainy_durations, non_rainy_durations, equal_var=False)\n",
    "\n",
    "# display results\n",
    "print(f\"T-statistic: {t_statistic}\")\n",
    "print(f\"P-value: {p_value}\")\n",
    "\n",
    "# decide based on p-value\n",
    "alpha = 0.05\n",
    "if p_value < alpha:\n",
    "    print(\"Reject null hypothesis: There is a statistically significant difference in average ride duration.\")\n",
    "else:\n",
    "    print(\"Fail to reject null hypothesis: No statistically significant difference in average ride duration.\")\n"
   ]
  },
  {
   "cell_type": "markdown",
   "metadata": {},
   "source": [
    "## Summary on the hypothesis testing\n",
    "- There is a significant difference in average ride times on rainy days. "
   ]
  },
  {
   "cell_type": "markdown",
   "metadata": {},
   "source": [
    "# Overall Conclusion\n",
    "Overall, Zuber is a great option for when you are needing a ride. You don't have to worry about driving if you can't and you don't have to worry about finding parking. For a small fee, you can enjoy yourself and have a safe option to get to and from where you are going. The top 10 neighrborhoods for dropoffs make sense and so do the taxi companies. It's a safer option for people instead of getting into random cars. The weather, of course, effects ride durations."
   ]
  }
 ],
 "metadata": {
  "ExecuteTimeLog": [
   {
    "duration": 6161,
    "start_time": "2024-07-02T18:49:21.589Z"
   },
   {
    "duration": 1467,
    "start_time": "2024-07-02T18:54:44.718Z"
   },
   {
    "duration": 31,
    "start_time": "2024-07-02T18:55:00.775Z"
   },
   {
    "duration": 1524,
    "start_time": "2024-07-02T18:55:07.108Z"
   },
   {
    "duration": 22,
    "start_time": "2024-07-02T18:55:08.636Z"
   },
   {
    "duration": 21,
    "start_time": "2024-07-02T18:55:27.927Z"
   },
   {
    "duration": 25,
    "start_time": "2024-07-02T18:56:44.967Z"
   },
   {
    "duration": 10,
    "start_time": "2024-07-02T19:03:52.051Z"
   },
   {
    "duration": 9,
    "start_time": "2024-07-02T19:04:04.798Z"
   },
   {
    "duration": 10,
    "start_time": "2024-07-02T19:04:44.668Z"
   },
   {
    "duration": 315,
    "start_time": "2024-07-03T01:12:39.163Z"
   },
   {
    "duration": 5046,
    "start_time": "2024-07-03T01:12:53.889Z"
   },
   {
    "duration": 27,
    "start_time": "2024-07-03T01:12:58.939Z"
   },
   {
    "duration": 15,
    "start_time": "2024-07-03T01:12:58.969Z"
   },
   {
    "duration": 31,
    "start_time": "2024-07-03T01:12:58.988Z"
   },
   {
    "duration": 11,
    "start_time": "2024-07-03T01:12:59.021Z"
   },
   {
    "duration": 10,
    "start_time": "2024-07-03T01:12:59.038Z"
   },
   {
    "duration": 10,
    "start_time": "2024-07-03T01:12:59.051Z"
   },
   {
    "duration": 7,
    "start_time": "2024-07-03T01:13:17.742Z"
   },
   {
    "duration": 13,
    "start_time": "2024-07-03T01:14:23.554Z"
   },
   {
    "duration": 15,
    "start_time": "2024-07-03T01:14:54.357Z"
   },
   {
    "duration": 9,
    "start_time": "2024-07-03T01:15:04.213Z"
   },
   {
    "duration": 9,
    "start_time": "2024-07-03T01:15:12.171Z"
   },
   {
    "duration": 8,
    "start_time": "2024-07-03T01:15:46.932Z"
   },
   {
    "duration": 8,
    "start_time": "2024-07-03T01:15:57.003Z"
   },
   {
    "duration": 8,
    "start_time": "2024-07-03T01:21:33.927Z"
   },
   {
    "duration": 11,
    "start_time": "2024-07-03T01:25:59.452Z"
   },
   {
    "duration": 434,
    "start_time": "2024-07-03T01:32:31.070Z"
   },
   {
    "duration": 501,
    "start_time": "2024-07-03T01:33:57.906Z"
   },
   {
    "duration": 429,
    "start_time": "2024-07-03T01:34:45.838Z"
   },
   {
    "duration": 435,
    "start_time": "2024-07-03T01:35:36.793Z"
   },
   {
    "duration": 433,
    "start_time": "2024-07-03T01:36:12.909Z"
   },
   {
    "duration": 14,
    "start_time": "2024-07-03T01:41:47.612Z"
   },
   {
    "duration": 1320,
    "start_time": "2024-07-03T01:59:41.756Z"
   },
   {
    "duration": 86,
    "start_time": "2024-07-03T02:00:35.433Z"
   },
   {
    "duration": 41,
    "start_time": "2024-07-03T02:06:55.564Z"
   },
   {
    "duration": 39,
    "start_time": "2024-07-03T02:07:25.357Z"
   },
   {
    "duration": 1169,
    "start_time": "2024-07-03T02:07:44.291Z"
   },
   {
    "duration": 22,
    "start_time": "2024-07-03T02:07:45.466Z"
   },
   {
    "duration": 25,
    "start_time": "2024-07-03T02:07:45.491Z"
   },
   {
    "duration": 19,
    "start_time": "2024-07-03T02:07:45.519Z"
   },
   {
    "duration": 9,
    "start_time": "2024-07-03T02:07:45.542Z"
   },
   {
    "duration": 47,
    "start_time": "2024-07-03T02:07:45.554Z"
   },
   {
    "duration": 8,
    "start_time": "2024-07-03T02:07:45.605Z"
   },
   {
    "duration": 7,
    "start_time": "2024-07-03T02:07:45.616Z"
   },
   {
    "duration": 13,
    "start_time": "2024-07-03T02:07:45.627Z"
   },
   {
    "duration": 59,
    "start_time": "2024-07-03T02:07:45.643Z"
   },
   {
    "duration": 10,
    "start_time": "2024-07-03T02:07:45.706Z"
   },
   {
    "duration": 9,
    "start_time": "2024-07-03T02:07:45.720Z"
   },
   {
    "duration": 8,
    "start_time": "2024-07-03T02:07:45.733Z"
   },
   {
    "duration": 8,
    "start_time": "2024-07-03T02:07:45.748Z"
   },
   {
    "duration": 8,
    "start_time": "2024-07-03T02:07:45.805Z"
   },
   {
    "duration": 11,
    "start_time": "2024-07-03T02:07:45.817Z"
   },
   {
    "duration": 515,
    "start_time": "2024-07-03T02:07:45.831Z"
   },
   {
    "duration": 427,
    "start_time": "2024-07-03T02:07:46.350Z"
   },
   {
    "duration": 492,
    "start_time": "2024-07-03T02:07:46.780Z"
   },
   {
    "duration": 17,
    "start_time": "2024-07-03T02:13:07.300Z"
   },
   {
    "duration": 323,
    "start_time": "2024-07-03T02:37:28.961Z"
   },
   {
    "duration": 4763,
    "start_time": "2024-07-03T02:37:34.963Z"
   },
   {
    "duration": 27,
    "start_time": "2024-07-03T02:37:39.730Z"
   },
   {
    "duration": 15,
    "start_time": "2024-07-03T02:37:39.760Z"
   },
   {
    "duration": 21,
    "start_time": "2024-07-03T02:37:39.779Z"
   },
   {
    "duration": 31,
    "start_time": "2024-07-03T02:37:39.803Z"
   },
   {
    "duration": 10,
    "start_time": "2024-07-03T02:37:39.837Z"
   },
   {
    "duration": 9,
    "start_time": "2024-07-03T02:37:39.850Z"
   },
   {
    "duration": 8,
    "start_time": "2024-07-03T02:37:39.862Z"
   },
   {
    "duration": 63,
    "start_time": "2024-07-03T02:37:39.873Z"
   },
   {
    "duration": 17,
    "start_time": "2024-07-03T02:37:39.942Z"
   },
   {
    "duration": 13,
    "start_time": "2024-07-03T02:37:39.962Z"
   },
   {
    "duration": 11,
    "start_time": "2024-07-03T02:37:39.978Z"
   },
   {
    "duration": 47,
    "start_time": "2024-07-03T02:37:39.991Z"
   },
   {
    "duration": 8,
    "start_time": "2024-07-03T02:37:40.041Z"
   },
   {
    "duration": 7,
    "start_time": "2024-07-03T02:37:40.052Z"
   },
   {
    "duration": 12,
    "start_time": "2024-07-03T02:37:40.062Z"
   },
   {
    "duration": 564,
    "start_time": "2024-07-03T02:37:40.077Z"
   },
   {
    "duration": 428,
    "start_time": "2024-07-03T02:37:40.644Z"
   },
   {
    "duration": 19,
    "start_time": "2024-07-03T02:37:41.075Z"
   },
   {
    "duration": 317,
    "start_time": "2024-07-03T03:33:51.832Z"
   },
   {
    "duration": 4813,
    "start_time": "2024-07-03T03:33:58.575Z"
   },
   {
    "duration": 28,
    "start_time": "2024-07-03T03:34:03.392Z"
   },
   {
    "duration": 16,
    "start_time": "2024-07-03T03:34:03.422Z"
   },
   {
    "duration": 18,
    "start_time": "2024-07-03T03:34:03.442Z"
   },
   {
    "duration": 37,
    "start_time": "2024-07-03T03:34:03.464Z"
   },
   {
    "duration": 14,
    "start_time": "2024-07-03T03:34:03.504Z"
   },
   {
    "duration": 10,
    "start_time": "2024-07-03T03:34:03.521Z"
   },
   {
    "duration": 9,
    "start_time": "2024-07-03T03:34:03.534Z"
   },
   {
    "duration": 65,
    "start_time": "2024-07-03T03:34:03.546Z"
   },
   {
    "duration": 18,
    "start_time": "2024-07-03T03:34:03.614Z"
   },
   {
    "duration": 9,
    "start_time": "2024-07-03T03:34:03.635Z"
   },
   {
    "duration": 9,
    "start_time": "2024-07-03T03:34:03.647Z"
   },
   {
    "duration": 44,
    "start_time": "2024-07-03T03:34:03.660Z"
   },
   {
    "duration": 7,
    "start_time": "2024-07-03T03:34:03.712Z"
   },
   {
    "duration": 9,
    "start_time": "2024-07-03T03:34:03.722Z"
   },
   {
    "duration": 12,
    "start_time": "2024-07-03T03:34:03.734Z"
   },
   {
    "duration": 553,
    "start_time": "2024-07-03T03:34:03.749Z"
   },
   {
    "duration": 454,
    "start_time": "2024-07-03T03:34:04.305Z"
   },
   {
    "duration": 1284,
    "start_time": "2024-07-03T03:34:04.763Z"
   },
   {
    "duration": 15,
    "start_time": "2024-07-03T03:36:20.154Z"
   },
   {
    "duration": 17,
    "start_time": "2024-07-03T03:40:54.214Z"
   },
   {
    "duration": 10,
    "start_time": "2024-07-03T03:40:59.807Z"
   },
   {
    "duration": 9,
    "start_time": "2024-07-03T03:41:05.735Z"
   },
   {
    "duration": 7,
    "start_time": "2024-07-03T03:41:14.086Z"
   },
   {
    "duration": 7,
    "start_time": "2024-07-03T03:41:19.394Z"
   },
   {
    "duration": 1132,
    "start_time": "2024-07-03T03:57:20.024Z"
   },
   {
    "duration": 18,
    "start_time": "2024-07-03T03:57:21.160Z"
   },
   {
    "duration": 23,
    "start_time": "2024-07-03T03:57:21.181Z"
   },
   {
    "duration": 13,
    "start_time": "2024-07-03T03:57:21.208Z"
   },
   {
    "duration": 10,
    "start_time": "2024-07-03T03:57:21.224Z"
   },
   {
    "duration": 8,
    "start_time": "2024-07-03T03:57:21.237Z"
   },
   {
    "duration": 54,
    "start_time": "2024-07-03T03:57:21.249Z"
   },
   {
    "duration": 16,
    "start_time": "2024-07-03T03:57:21.306Z"
   },
   {
    "duration": 10,
    "start_time": "2024-07-03T03:57:21.326Z"
   },
   {
    "duration": 9,
    "start_time": "2024-07-03T03:57:21.342Z"
   },
   {
    "duration": 49,
    "start_time": "2024-07-03T03:57:21.355Z"
   },
   {
    "duration": 12,
    "start_time": "2024-07-03T03:57:21.409Z"
   },
   {
    "duration": 9,
    "start_time": "2024-07-03T03:57:21.424Z"
   },
   {
    "duration": 13,
    "start_time": "2024-07-03T03:57:21.437Z"
   },
   {
    "duration": 490,
    "start_time": "2024-07-03T03:57:21.454Z"
   },
   {
    "duration": 462,
    "start_time": "2024-07-03T03:57:21.948Z"
   },
   {
    "duration": 1309,
    "start_time": "2024-07-03T04:01:21.813Z"
   },
   {
    "duration": 26,
    "start_time": "2024-07-03T04:02:05.967Z"
   },
   {
    "duration": 111,
    "start_time": "2024-07-03T04:06:11.841Z"
   },
   {
    "duration": 92,
    "start_time": "2024-07-03T04:07:34.255Z"
   },
   {
    "duration": 58,
    "start_time": "2024-07-03T04:07:50.362Z"
   },
   {
    "duration": 22,
    "start_time": "2024-07-03T04:07:56.996Z"
   },
   {
    "duration": 83,
    "start_time": "2024-07-03T04:27:09.513Z"
   },
   {
    "duration": 1116,
    "start_time": "2024-07-03T04:27:29.343Z"
   },
   {
    "duration": 24,
    "start_time": "2024-07-03T04:27:30.466Z"
   },
   {
    "duration": 17,
    "start_time": "2024-07-03T04:27:30.493Z"
   },
   {
    "duration": 12,
    "start_time": "2024-07-03T04:27:30.516Z"
   },
   {
    "duration": 10,
    "start_time": "2024-07-03T04:27:30.532Z"
   },
   {
    "duration": 9,
    "start_time": "2024-07-03T04:27:30.545Z"
   },
   {
    "duration": 8,
    "start_time": "2024-07-03T04:27:30.602Z"
   },
   {
    "duration": 13,
    "start_time": "2024-07-03T04:27:30.614Z"
   },
   {
    "duration": 12,
    "start_time": "2024-07-03T04:27:30.630Z"
   },
   {
    "duration": 54,
    "start_time": "2024-07-03T04:27:30.648Z"
   },
   {
    "duration": 9,
    "start_time": "2024-07-03T04:27:30.704Z"
   },
   {
    "duration": 10,
    "start_time": "2024-07-03T04:27:30.717Z"
   },
   {
    "duration": 8,
    "start_time": "2024-07-03T04:27:30.730Z"
   },
   {
    "duration": 12,
    "start_time": "2024-07-03T04:27:30.741Z"
   },
   {
    "duration": 449,
    "start_time": "2024-07-03T04:27:30.801Z"
   },
   {
    "duration": 456,
    "start_time": "2024-07-03T04:27:31.253Z"
   },
   {
    "duration": 1308,
    "start_time": "2024-07-03T04:27:31.712Z"
   },
   {
    "duration": 84,
    "start_time": "2024-07-03T04:33:00.470Z"
   },
   {
    "duration": 10,
    "start_time": "2024-07-03T04:33:28.266Z"
   },
   {
    "duration": 11,
    "start_time": "2024-07-03T04:34:42.181Z"
   },
   {
    "duration": 8,
    "start_time": "2024-07-03T04:40:49.856Z"
   },
   {
    "duration": 1283,
    "start_time": "2024-07-03T04:40:56.151Z"
   },
   {
    "duration": 18,
    "start_time": "2024-07-03T04:40:57.439Z"
   },
   {
    "duration": 14,
    "start_time": "2024-07-03T04:40:57.460Z"
   },
   {
    "duration": 47,
    "start_time": "2024-07-03T04:40:57.479Z"
   },
   {
    "duration": 10,
    "start_time": "2024-07-03T04:40:57.531Z"
   },
   {
    "duration": 9,
    "start_time": "2024-07-03T04:40:57.544Z"
   },
   {
    "duration": 7,
    "start_time": "2024-07-03T04:40:57.556Z"
   },
   {
    "duration": 63,
    "start_time": "2024-07-03T04:40:57.566Z"
   },
   {
    "duration": 11,
    "start_time": "2024-07-03T04:40:57.632Z"
   },
   {
    "duration": 11,
    "start_time": "2024-07-03T04:40:57.648Z"
   },
   {
    "duration": 10,
    "start_time": "2024-07-03T04:40:57.661Z"
   },
   {
    "duration": 51,
    "start_time": "2024-07-03T04:40:57.673Z"
   },
   {
    "duration": 8,
    "start_time": "2024-07-03T04:40:57.734Z"
   },
   {
    "duration": 11,
    "start_time": "2024-07-03T04:40:57.745Z"
   },
   {
    "duration": 467,
    "start_time": "2024-07-03T04:40:57.760Z"
   },
   {
    "duration": 505,
    "start_time": "2024-07-03T04:40:58.229Z"
   },
   {
    "duration": 12,
    "start_time": "2024-07-03T04:40:58.737Z"
   }
  ],
  "kernelspec": {
   "display_name": "Python 3 (ipykernel)",
   "language": "python",
   "name": "python3"
  },
  "language_info": {
   "codemirror_mode": {
    "name": "ipython",
    "version": 3
   },
   "file_extension": ".py",
   "mimetype": "text/x-python",
   "name": "python",
   "nbconvert_exporter": "python",
   "pygments_lexer": "ipython3",
   "version": "3.9.19"
  },
  "toc": {
   "base_numbering": 1,
   "nav_menu": {},
   "number_sections": true,
   "sideBar": true,
   "skip_h1_title": true,
   "title_cell": "Table of Contents",
   "title_sidebar": "Contents",
   "toc_cell": false,
   "toc_position": {},
   "toc_section_display": true,
   "toc_window_display": false
  }
 },
 "nbformat": 4,
 "nbformat_minor": 2
}
